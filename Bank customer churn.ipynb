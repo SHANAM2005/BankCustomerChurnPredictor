{
 "cells": [
  {
   "cell_type": "markdown",
   "id": "f82751b4-d3dd-4b04-86c5-3b597f40a45d",
   "metadata": {},
   "source": [
    "# Bank Customer Churn\n",
    "Objective: Create a model which can predict bank customers who are going to leave the bank."
   ]
  },
  {
   "cell_type": "markdown",
   "id": "71770e5e-1eca-40c3-bbaf-807e101a0801",
   "metadata": {
    "jp-MarkdownHeadingCollapsed": true
   },
   "source": [
    "# Data Source: \n",
    "https://github.com/YBI-Foundation/Dataset/raw/main/Bank%20Churn%20Modelling.csv"
   ]
  },
  {
   "cell_type": "markdown",
   "id": "a25d9ab4-96ba-4b69-91bc-9b397ecb7cfa",
   "metadata": {},
   "source": [
    "# Import Library"
   ]
  },
  {
   "cell_type": "code",
   "execution_count": 8,
   "id": "0aa9bd49-45c0-4b4b-a973-e1a2f1fb5bc1",
   "metadata": {},
   "outputs": [],
   "source": [
    "import numpy as np\n",
    "import pandas as pd\n",
    "import matplotlib.pyplot as plt\n",
    "import seaborn as sns"
   ]
  },
  {
   "cell_type": "markdown",
   "id": "ea043d5b-ee8a-4bfe-a145-3f3d8b635585",
   "metadata": {},
   "source": [
    "# Import data"
   ]
  },
  {
   "cell_type": "code",
   "execution_count": 9,
   "id": "443ed809-5769-4fc3-85e4-b0aaf20abe6e",
   "metadata": {},
   "outputs": [],
   "source": [
    "data = pd.read_csv('https://github.com/YBI-Foundation/Dataset/raw/main/Bank%20Churn%20Modelling.csv')"
   ]
  },
  {
   "cell_type": "markdown",
   "id": "047ac02c-ebc6-41af-a78e-34d864224790",
   "metadata": {},
   "source": [
    "# Describe Data"
   ]
  },
  {
   "cell_type": "code",
   "execution_count": 10,
   "id": "a7d21aa2-2f35-4707-a110-44ac12895f75",
   "metadata": {},
   "outputs": [
    {
     "data": {
      "text/html": [
       "<div>\n",
       "<style scoped>\n",
       "    .dataframe tbody tr th:only-of-type {\n",
       "        vertical-align: middle;\n",
       "    }\n",
       "\n",
       "    .dataframe tbody tr th {\n",
       "        vertical-align: top;\n",
       "    }\n",
       "\n",
       "    .dataframe thead th {\n",
       "        text-align: right;\n",
       "    }\n",
       "</style>\n",
       "<table border=\"1\" class=\"dataframe\">\n",
       "  <thead>\n",
       "    <tr style=\"text-align: right;\">\n",
       "      <th></th>\n",
       "      <th>CustomerId</th>\n",
       "      <th>Surname</th>\n",
       "      <th>CreditScore</th>\n",
       "      <th>Geography</th>\n",
       "      <th>Gender</th>\n",
       "      <th>Age</th>\n",
       "      <th>Tenure</th>\n",
       "      <th>Balance</th>\n",
       "      <th>Num Of Products</th>\n",
       "      <th>Has Credit Card</th>\n",
       "      <th>Is Active Member</th>\n",
       "      <th>Estimated Salary</th>\n",
       "      <th>Churn</th>\n",
       "    </tr>\n",
       "  </thead>\n",
       "  <tbody>\n",
       "    <tr>\n",
       "      <th>0</th>\n",
       "      <td>15634602</td>\n",
       "      <td>Hargrave</td>\n",
       "      <td>619</td>\n",
       "      <td>France</td>\n",
       "      <td>Female</td>\n",
       "      <td>42</td>\n",
       "      <td>2</td>\n",
       "      <td>0.00</td>\n",
       "      <td>1</td>\n",
       "      <td>1</td>\n",
       "      <td>1</td>\n",
       "      <td>101348.88</td>\n",
       "      <td>1</td>\n",
       "    </tr>\n",
       "    <tr>\n",
       "      <th>1</th>\n",
       "      <td>15647311</td>\n",
       "      <td>Hill</td>\n",
       "      <td>608</td>\n",
       "      <td>Spain</td>\n",
       "      <td>Female</td>\n",
       "      <td>41</td>\n",
       "      <td>1</td>\n",
       "      <td>83807.86</td>\n",
       "      <td>1</td>\n",
       "      <td>0</td>\n",
       "      <td>1</td>\n",
       "      <td>112542.58</td>\n",
       "      <td>0</td>\n",
       "    </tr>\n",
       "    <tr>\n",
       "      <th>2</th>\n",
       "      <td>15619304</td>\n",
       "      <td>Onio</td>\n",
       "      <td>502</td>\n",
       "      <td>France</td>\n",
       "      <td>Female</td>\n",
       "      <td>42</td>\n",
       "      <td>8</td>\n",
       "      <td>159660.80</td>\n",
       "      <td>3</td>\n",
       "      <td>1</td>\n",
       "      <td>0</td>\n",
       "      <td>113931.57</td>\n",
       "      <td>1</td>\n",
       "    </tr>\n",
       "    <tr>\n",
       "      <th>3</th>\n",
       "      <td>15701354</td>\n",
       "      <td>Boni</td>\n",
       "      <td>699</td>\n",
       "      <td>France</td>\n",
       "      <td>Female</td>\n",
       "      <td>39</td>\n",
       "      <td>1</td>\n",
       "      <td>0.00</td>\n",
       "      <td>2</td>\n",
       "      <td>0</td>\n",
       "      <td>0</td>\n",
       "      <td>93826.63</td>\n",
       "      <td>0</td>\n",
       "    </tr>\n",
       "    <tr>\n",
       "      <th>4</th>\n",
       "      <td>15737888</td>\n",
       "      <td>Mitchell</td>\n",
       "      <td>850</td>\n",
       "      <td>Spain</td>\n",
       "      <td>Female</td>\n",
       "      <td>43</td>\n",
       "      <td>2</td>\n",
       "      <td>125510.82</td>\n",
       "      <td>1</td>\n",
       "      <td>1</td>\n",
       "      <td>1</td>\n",
       "      <td>79084.10</td>\n",
       "      <td>0</td>\n",
       "    </tr>\n",
       "  </tbody>\n",
       "</table>\n",
       "</div>"
      ],
      "text/plain": [
       "   CustomerId   Surname  CreditScore Geography  Gender  Age  Tenure  \\\n",
       "0    15634602  Hargrave          619    France  Female   42       2   \n",
       "1    15647311      Hill          608     Spain  Female   41       1   \n",
       "2    15619304      Onio          502    France  Female   42       8   \n",
       "3    15701354      Boni          699    France  Female   39       1   \n",
       "4    15737888  Mitchell          850     Spain  Female   43       2   \n",
       "\n",
       "     Balance  Num Of Products  Has Credit Card  Is Active Member  \\\n",
       "0       0.00                1                1                 1   \n",
       "1   83807.86                1                0                 1   \n",
       "2  159660.80                3                1                 0   \n",
       "3       0.00                2                0                 0   \n",
       "4  125510.82                1                1                 1   \n",
       "\n",
       "   Estimated Salary  Churn  \n",
       "0         101348.88      1  \n",
       "1         112542.58      0  \n",
       "2         113931.57      1  \n",
       "3          93826.63      0  \n",
       "4          79084.10      0  "
      ]
     },
     "execution_count": 10,
     "metadata": {},
     "output_type": "execute_result"
    }
   ],
   "source": [
    "data.head()"
   ]
  },
  {
   "cell_type": "code",
   "execution_count": 11,
   "id": "fd8f79a2-9e47-438a-be83-be14997aefdc",
   "metadata": {},
   "outputs": [
    {
     "name": "stdout",
     "output_type": "stream",
     "text": [
      "<class 'pandas.core.frame.DataFrame'>\n",
      "RangeIndex: 10000 entries, 0 to 9999\n",
      "Data columns (total 13 columns):\n",
      " #   Column            Non-Null Count  Dtype  \n",
      "---  ------            --------------  -----  \n",
      " 0   CustomerId        10000 non-null  int64  \n",
      " 1   Surname           10000 non-null  object \n",
      " 2   CreditScore       10000 non-null  int64  \n",
      " 3   Geography         10000 non-null  object \n",
      " 4   Gender            10000 non-null  object \n",
      " 5   Age               10000 non-null  int64  \n",
      " 6   Tenure            10000 non-null  int64  \n",
      " 7   Balance           10000 non-null  float64\n",
      " 8   Num Of Products   10000 non-null  int64  \n",
      " 9   Has Credit Card   10000 non-null  int64  \n",
      " 10  Is Active Member  10000 non-null  int64  \n",
      " 11  Estimated Salary  10000 non-null  float64\n",
      " 12  Churn             10000 non-null  int64  \n",
      "dtypes: float64(2), int64(8), object(3)\n",
      "memory usage: 1015.8+ KB\n"
     ]
    }
   ],
   "source": [
    "data.info()"
   ]
  },
  {
   "cell_type": "code",
   "execution_count": 12,
   "id": "6e742889-f589-43bc-a2ee-7d01088155ee",
   "metadata": {},
   "outputs": [
    {
     "data": {
      "text/html": [
       "<div>\n",
       "<style scoped>\n",
       "    .dataframe tbody tr th:only-of-type {\n",
       "        vertical-align: middle;\n",
       "    }\n",
       "\n",
       "    .dataframe tbody tr th {\n",
       "        vertical-align: top;\n",
       "    }\n",
       "\n",
       "    .dataframe thead th {\n",
       "        text-align: right;\n",
       "    }\n",
       "</style>\n",
       "<table border=\"1\" class=\"dataframe\">\n",
       "  <thead>\n",
       "    <tr style=\"text-align: right;\">\n",
       "      <th></th>\n",
       "      <th>CustomerId</th>\n",
       "      <th>CreditScore</th>\n",
       "      <th>Age</th>\n",
       "      <th>Tenure</th>\n",
       "      <th>Balance</th>\n",
       "      <th>Num Of Products</th>\n",
       "      <th>Has Credit Card</th>\n",
       "      <th>Is Active Member</th>\n",
       "      <th>Estimated Salary</th>\n",
       "      <th>Churn</th>\n",
       "    </tr>\n",
       "  </thead>\n",
       "  <tbody>\n",
       "    <tr>\n",
       "      <th>count</th>\n",
       "      <td>1.000000e+04</td>\n",
       "      <td>10000.000000</td>\n",
       "      <td>10000.000000</td>\n",
       "      <td>10000.000000</td>\n",
       "      <td>10000.000000</td>\n",
       "      <td>10000.000000</td>\n",
       "      <td>10000.00000</td>\n",
       "      <td>10000.000000</td>\n",
       "      <td>10000.000000</td>\n",
       "      <td>10000.000000</td>\n",
       "    </tr>\n",
       "    <tr>\n",
       "      <th>mean</th>\n",
       "      <td>1.569094e+07</td>\n",
       "      <td>650.528800</td>\n",
       "      <td>38.921800</td>\n",
       "      <td>5.012800</td>\n",
       "      <td>76485.889288</td>\n",
       "      <td>1.530200</td>\n",
       "      <td>0.70550</td>\n",
       "      <td>0.515100</td>\n",
       "      <td>100090.239881</td>\n",
       "      <td>0.203700</td>\n",
       "    </tr>\n",
       "    <tr>\n",
       "      <th>std</th>\n",
       "      <td>7.193619e+04</td>\n",
       "      <td>96.653299</td>\n",
       "      <td>10.487806</td>\n",
       "      <td>2.892174</td>\n",
       "      <td>62397.405202</td>\n",
       "      <td>0.581654</td>\n",
       "      <td>0.45584</td>\n",
       "      <td>0.499797</td>\n",
       "      <td>57510.492818</td>\n",
       "      <td>0.402769</td>\n",
       "    </tr>\n",
       "    <tr>\n",
       "      <th>min</th>\n",
       "      <td>1.556570e+07</td>\n",
       "      <td>350.000000</td>\n",
       "      <td>18.000000</td>\n",
       "      <td>0.000000</td>\n",
       "      <td>0.000000</td>\n",
       "      <td>1.000000</td>\n",
       "      <td>0.00000</td>\n",
       "      <td>0.000000</td>\n",
       "      <td>11.580000</td>\n",
       "      <td>0.000000</td>\n",
       "    </tr>\n",
       "    <tr>\n",
       "      <th>25%</th>\n",
       "      <td>1.562853e+07</td>\n",
       "      <td>584.000000</td>\n",
       "      <td>32.000000</td>\n",
       "      <td>3.000000</td>\n",
       "      <td>0.000000</td>\n",
       "      <td>1.000000</td>\n",
       "      <td>0.00000</td>\n",
       "      <td>0.000000</td>\n",
       "      <td>51002.110000</td>\n",
       "      <td>0.000000</td>\n",
       "    </tr>\n",
       "    <tr>\n",
       "      <th>50%</th>\n",
       "      <td>1.569074e+07</td>\n",
       "      <td>652.000000</td>\n",
       "      <td>37.000000</td>\n",
       "      <td>5.000000</td>\n",
       "      <td>97198.540000</td>\n",
       "      <td>1.000000</td>\n",
       "      <td>1.00000</td>\n",
       "      <td>1.000000</td>\n",
       "      <td>100193.915000</td>\n",
       "      <td>0.000000</td>\n",
       "    </tr>\n",
       "    <tr>\n",
       "      <th>75%</th>\n",
       "      <td>1.575323e+07</td>\n",
       "      <td>718.000000</td>\n",
       "      <td>44.000000</td>\n",
       "      <td>7.000000</td>\n",
       "      <td>127644.240000</td>\n",
       "      <td>2.000000</td>\n",
       "      <td>1.00000</td>\n",
       "      <td>1.000000</td>\n",
       "      <td>149388.247500</td>\n",
       "      <td>0.000000</td>\n",
       "    </tr>\n",
       "    <tr>\n",
       "      <th>max</th>\n",
       "      <td>1.581569e+07</td>\n",
       "      <td>850.000000</td>\n",
       "      <td>92.000000</td>\n",
       "      <td>10.000000</td>\n",
       "      <td>250898.090000</td>\n",
       "      <td>4.000000</td>\n",
       "      <td>1.00000</td>\n",
       "      <td>1.000000</td>\n",
       "      <td>199992.480000</td>\n",
       "      <td>1.000000</td>\n",
       "    </tr>\n",
       "  </tbody>\n",
       "</table>\n",
       "</div>"
      ],
      "text/plain": [
       "         CustomerId   CreditScore           Age        Tenure        Balance  \\\n",
       "count  1.000000e+04  10000.000000  10000.000000  10000.000000   10000.000000   \n",
       "mean   1.569094e+07    650.528800     38.921800      5.012800   76485.889288   \n",
       "std    7.193619e+04     96.653299     10.487806      2.892174   62397.405202   \n",
       "min    1.556570e+07    350.000000     18.000000      0.000000       0.000000   \n",
       "25%    1.562853e+07    584.000000     32.000000      3.000000       0.000000   \n",
       "50%    1.569074e+07    652.000000     37.000000      5.000000   97198.540000   \n",
       "75%    1.575323e+07    718.000000     44.000000      7.000000  127644.240000   \n",
       "max    1.581569e+07    850.000000     92.000000     10.000000  250898.090000   \n",
       "\n",
       "       Num Of Products  Has Credit Card  Is Active Member  Estimated Salary  \\\n",
       "count     10000.000000      10000.00000      10000.000000      10000.000000   \n",
       "mean          1.530200          0.70550          0.515100     100090.239881   \n",
       "std           0.581654          0.45584          0.499797      57510.492818   \n",
       "min           1.000000          0.00000          0.000000         11.580000   \n",
       "25%           1.000000          0.00000          0.000000      51002.110000   \n",
       "50%           1.000000          1.00000          1.000000     100193.915000   \n",
       "75%           2.000000          1.00000          1.000000     149388.247500   \n",
       "max           4.000000          1.00000          1.000000     199992.480000   \n",
       "\n",
       "              Churn  \n",
       "count  10000.000000  \n",
       "mean       0.203700  \n",
       "std        0.402769  \n",
       "min        0.000000  \n",
       "25%        0.000000  \n",
       "50%        0.000000  \n",
       "75%        0.000000  \n",
       "max        1.000000  "
      ]
     },
     "execution_count": 12,
     "metadata": {},
     "output_type": "execute_result"
    }
   ],
   "source": [
    "data.describe()"
   ]
  },
  {
   "cell_type": "code",
   "execution_count": 13,
   "id": "24784378-70b0-4ab4-84d8-e7504eeb939f",
   "metadata": {},
   "outputs": [
    {
     "data": {
      "text/plain": [
       "Index(['CustomerId', 'Surname', 'CreditScore', 'Geography', 'Gender', 'Age',\n",
       "       'Tenure', 'Balance', 'Num Of Products', 'Has Credit Card',\n",
       "       'Is Active Member', 'Estimated Salary', 'Churn'],\n",
       "      dtype='object')"
      ]
     },
     "execution_count": 13,
     "metadata": {},
     "output_type": "execute_result"
    }
   ],
   "source": [
    "data.columns"
   ]
  },
  {
   "cell_type": "code",
   "execution_count": 14,
   "id": "7ece8fb7-d4a0-4dc2-8fe3-ddc524550b81",
   "metadata": {},
   "outputs": [
    {
     "data": {
      "text/plain": [
       "0"
      ]
     },
     "execution_count": 14,
     "metadata": {},
     "output_type": "execute_result"
    }
   ],
   "source": [
    "data.duplicated('CustomerId').sum()"
   ]
  },
  {
   "cell_type": "code",
   "execution_count": 15,
   "id": "1a94e8f8-8b9c-43fc-9a19-dcc53ab0d1b3",
   "metadata": {},
   "outputs": [],
   "source": [
    "data = data.set_index('CustomerId') "
   ]
  },
  {
   "cell_type": "code",
   "execution_count": 16,
   "id": "3eb60494-6f43-4c2a-baf8-8facb655ca1f",
   "metadata": {},
   "outputs": [
    {
     "name": "stdout",
     "output_type": "stream",
     "text": [
      "<class 'pandas.core.frame.DataFrame'>\n",
      "Index: 10000 entries, 15634602 to 15628319\n",
      "Data columns (total 12 columns):\n",
      " #   Column            Non-Null Count  Dtype  \n",
      "---  ------            --------------  -----  \n",
      " 0   Surname           10000 non-null  object \n",
      " 1   CreditScore       10000 non-null  int64  \n",
      " 2   Geography         10000 non-null  object \n",
      " 3   Gender            10000 non-null  object \n",
      " 4   Age               10000 non-null  int64  \n",
      " 5   Tenure            10000 non-null  int64  \n",
      " 6   Balance           10000 non-null  float64\n",
      " 7   Num Of Products   10000 non-null  int64  \n",
      " 8   Has Credit Card   10000 non-null  int64  \n",
      " 9   Is Active Member  10000 non-null  int64  \n",
      " 10  Estimated Salary  10000 non-null  float64\n",
      " 11  Churn             10000 non-null  int64  \n",
      "dtypes: float64(2), int64(7), object(3)\n",
      "memory usage: 1015.6+ KB\n"
     ]
    }
   ],
   "source": [
    "data.info()"
   ]
  },
  {
   "cell_type": "markdown",
   "id": "88a901f5-d8fe-4515-b56a-5b8dfc3d2627",
   "metadata": {},
   "source": [
    "# Data preprocessing"
   ]
  },
  {
   "cell_type": "code",
   "execution_count": 17,
   "id": "748d630d-7ad0-4e87-ac42-3107b0145c46",
   "metadata": {},
   "outputs": [],
   "source": [
    "# choosing suitable features\n",
    "data_1 = data[['CreditScore', 'Geography', 'Gender', 'Age',\n",
    "       'Tenure', 'Balance', 'Num Of Products', 'Has Credit Card',\n",
    "       'Is Active Member', 'Estimated Salary', 'Churn']]"
   ]
  },
  {
   "cell_type": "code",
   "execution_count": 18,
   "id": "41866641-bca0-4068-be30-c588808a18d2",
   "metadata": {},
   "outputs": [],
   "source": [
    "data_1 = pd.get_dummies(data_1,drop_first = True)"
   ]
  },
  {
   "cell_type": "code",
   "execution_count": 19,
   "id": "9e7f102a-62bd-4afc-a40a-03a7e9bb2594",
   "metadata": {},
   "outputs": [
    {
     "name": "stdout",
     "output_type": "stream",
     "text": [
      "<class 'pandas.core.frame.DataFrame'>\n",
      "Index: 10000 entries, 15634602 to 15628319\n",
      "Data columns (total 12 columns):\n",
      " #   Column             Non-Null Count  Dtype  \n",
      "---  ------             --------------  -----  \n",
      " 0   CreditScore        10000 non-null  int64  \n",
      " 1   Age                10000 non-null  int64  \n",
      " 2   Tenure             10000 non-null  int64  \n",
      " 3   Balance            10000 non-null  float64\n",
      " 4   Num Of Products    10000 non-null  int64  \n",
      " 5   Has Credit Card    10000 non-null  int64  \n",
      " 6   Is Active Member   10000 non-null  int64  \n",
      " 7   Estimated Salary   10000 non-null  float64\n",
      " 8   Churn              10000 non-null  int64  \n",
      " 9   Geography_Germany  10000 non-null  bool   \n",
      " 10  Geography_Spain    10000 non-null  bool   \n",
      " 11  Gender_Male        10000 non-null  bool   \n",
      "dtypes: bool(3), float64(2), int64(7)\n",
      "memory usage: 810.5 KB\n"
     ]
    }
   ],
   "source": [
    "data_1.info()"
   ]
  },
  {
   "cell_type": "markdown",
   "id": "8e082e15-292a-48b4-976e-75f9ae08bd0f",
   "metadata": {},
   "source": [
    "Checking for null values"
   ]
  },
  {
   "cell_type": "code",
   "execution_count": 20,
   "id": "d6be7dcc-6589-4728-a942-29bd57ff9a4c",
   "metadata": {},
   "outputs": [
    {
     "data": {
      "text/plain": [
       "CreditScore          0\n",
       "Age                  0\n",
       "Tenure               0\n",
       "Balance              0\n",
       "Num Of Products      0\n",
       "Has Credit Card      0\n",
       "Is Active Member     0\n",
       "Estimated Salary     0\n",
       "Churn                0\n",
       "Geography_Germany    0\n",
       "Geography_Spain      0\n",
       "Gender_Male          0\n",
       "dtype: int64"
      ]
     },
     "execution_count": 20,
     "metadata": {},
     "output_type": "execute_result"
    }
   ],
   "source": [
    "data_1.isna().sum()"
   ]
  },
  {
   "cell_type": "markdown",
   "id": "a782c86f-5087-4abc-8df1-c38caa6388d2",
   "metadata": {},
   "source": [
    "# Feature engineering\n",
    "Creating a new feature as zero bank balance, since it will be a useful information."
   ]
  },
  {
   "cell_type": "code",
   "execution_count": 21,
   "id": "3d605e89-d351-4c6c-8062-c27a8a00066d",
   "metadata": {},
   "outputs": [
    {
     "data": {
      "text/plain": [
       "Churn\n",
       "0    3117\n",
       "1     500\n",
       "Name: count, dtype: int64"
      ]
     },
     "execution_count": 21,
     "metadata": {},
     "output_type": "execute_result"
    }
   ],
   "source": [
    "data_1.loc[(data_1['Balance'] == 0),'Churn'].value_counts()"
   ]
  },
  {
   "cell_type": "code",
   "execution_count": 22,
   "id": "5a79f7da-002a-4cb5-9fbf-a3bf521beeba",
   "metadata": {},
   "outputs": [],
   "source": [
    "data_1['zero_bal'] = np.where((data_1['Balance'] == 0),1,0)"
   ]
  },
  {
   "cell_type": "code",
   "execution_count": 23,
   "id": "4833cfb7-3ec4-4a3d-ab8e-9946f08821ac",
   "metadata": {},
   "outputs": [
    {
     "data": {
      "text/html": [
       "<div>\n",
       "<style scoped>\n",
       "    .dataframe tbody tr th:only-of-type {\n",
       "        vertical-align: middle;\n",
       "    }\n",
       "\n",
       "    .dataframe tbody tr th {\n",
       "        vertical-align: top;\n",
       "    }\n",
       "\n",
       "    .dataframe thead th {\n",
       "        text-align: right;\n",
       "    }\n",
       "</style>\n",
       "<table border=\"1\" class=\"dataframe\">\n",
       "  <thead>\n",
       "    <tr style=\"text-align: right;\">\n",
       "      <th></th>\n",
       "      <th>CreditScore</th>\n",
       "      <th>Age</th>\n",
       "      <th>Tenure</th>\n",
       "      <th>Balance</th>\n",
       "      <th>Num Of Products</th>\n",
       "      <th>Has Credit Card</th>\n",
       "      <th>Is Active Member</th>\n",
       "      <th>Estimated Salary</th>\n",
       "      <th>Churn</th>\n",
       "      <th>Geography_Germany</th>\n",
       "      <th>Geography_Spain</th>\n",
       "      <th>Gender_Male</th>\n",
       "      <th>zero_bal</th>\n",
       "    </tr>\n",
       "    <tr>\n",
       "      <th>CustomerId</th>\n",
       "      <th></th>\n",
       "      <th></th>\n",
       "      <th></th>\n",
       "      <th></th>\n",
       "      <th></th>\n",
       "      <th></th>\n",
       "      <th></th>\n",
       "      <th></th>\n",
       "      <th></th>\n",
       "      <th></th>\n",
       "      <th></th>\n",
       "      <th></th>\n",
       "      <th></th>\n",
       "    </tr>\n",
       "  </thead>\n",
       "  <tbody>\n",
       "    <tr>\n",
       "      <th>15634602</th>\n",
       "      <td>619</td>\n",
       "      <td>42</td>\n",
       "      <td>2</td>\n",
       "      <td>0.00</td>\n",
       "      <td>1</td>\n",
       "      <td>1</td>\n",
       "      <td>1</td>\n",
       "      <td>101348.88</td>\n",
       "      <td>1</td>\n",
       "      <td>False</td>\n",
       "      <td>False</td>\n",
       "      <td>False</td>\n",
       "      <td>1</td>\n",
       "    </tr>\n",
       "    <tr>\n",
       "      <th>15647311</th>\n",
       "      <td>608</td>\n",
       "      <td>41</td>\n",
       "      <td>1</td>\n",
       "      <td>83807.86</td>\n",
       "      <td>1</td>\n",
       "      <td>0</td>\n",
       "      <td>1</td>\n",
       "      <td>112542.58</td>\n",
       "      <td>0</td>\n",
       "      <td>False</td>\n",
       "      <td>True</td>\n",
       "      <td>False</td>\n",
       "      <td>0</td>\n",
       "    </tr>\n",
       "    <tr>\n",
       "      <th>15619304</th>\n",
       "      <td>502</td>\n",
       "      <td>42</td>\n",
       "      <td>8</td>\n",
       "      <td>159660.80</td>\n",
       "      <td>3</td>\n",
       "      <td>1</td>\n",
       "      <td>0</td>\n",
       "      <td>113931.57</td>\n",
       "      <td>1</td>\n",
       "      <td>False</td>\n",
       "      <td>False</td>\n",
       "      <td>False</td>\n",
       "      <td>0</td>\n",
       "    </tr>\n",
       "    <tr>\n",
       "      <th>15701354</th>\n",
       "      <td>699</td>\n",
       "      <td>39</td>\n",
       "      <td>1</td>\n",
       "      <td>0.00</td>\n",
       "      <td>2</td>\n",
       "      <td>0</td>\n",
       "      <td>0</td>\n",
       "      <td>93826.63</td>\n",
       "      <td>0</td>\n",
       "      <td>False</td>\n",
       "      <td>False</td>\n",
       "      <td>False</td>\n",
       "      <td>1</td>\n",
       "    </tr>\n",
       "    <tr>\n",
       "      <th>15737888</th>\n",
       "      <td>850</td>\n",
       "      <td>43</td>\n",
       "      <td>2</td>\n",
       "      <td>125510.82</td>\n",
       "      <td>1</td>\n",
       "      <td>1</td>\n",
       "      <td>1</td>\n",
       "      <td>79084.10</td>\n",
       "      <td>0</td>\n",
       "      <td>False</td>\n",
       "      <td>True</td>\n",
       "      <td>False</td>\n",
       "      <td>0</td>\n",
       "    </tr>\n",
       "  </tbody>\n",
       "</table>\n",
       "</div>"
      ],
      "text/plain": [
       "            CreditScore  Age  Tenure    Balance  Num Of Products  \\\n",
       "CustomerId                                                         \n",
       "15634602            619   42       2       0.00                1   \n",
       "15647311            608   41       1   83807.86                1   \n",
       "15619304            502   42       8  159660.80                3   \n",
       "15701354            699   39       1       0.00                2   \n",
       "15737888            850   43       2  125510.82                1   \n",
       "\n",
       "            Has Credit Card  Is Active Member  Estimated Salary  Churn  \\\n",
       "CustomerId                                                               \n",
       "15634602                  1                 1         101348.88      1   \n",
       "15647311                  0                 1         112542.58      0   \n",
       "15619304                  1                 0         113931.57      1   \n",
       "15701354                  0                 0          93826.63      0   \n",
       "15737888                  1                 1          79084.10      0   \n",
       "\n",
       "            Geography_Germany  Geography_Spain  Gender_Male  zero_bal  \n",
       "CustomerId                                                             \n",
       "15634602                False            False        False         1  \n",
       "15647311                False             True        False         0  \n",
       "15619304                False            False        False         0  \n",
       "15701354                False            False        False         1  \n",
       "15737888                False             True        False         0  "
      ]
     },
     "execution_count": 23,
     "metadata": {},
     "output_type": "execute_result"
    }
   ],
   "source": [
    "data_1.head()"
   ]
  },
  {
   "cell_type": "code",
   "execution_count": 24,
   "id": "22f39fd5-4f6d-4478-94c9-624136ff20e1",
   "metadata": {},
   "outputs": [
    {
     "data": {
      "text/plain": [
       "Index(['CreditScore', 'Age', 'Tenure', 'Balance', 'Num Of Products',\n",
       "       'Has Credit Card', 'Is Active Member', 'Estimated Salary', 'Churn',\n",
       "       'Geography_Germany', 'Geography_Spain', 'Gender_Male', 'zero_bal'],\n",
       "      dtype='object')"
      ]
     },
     "execution_count": 24,
     "metadata": {},
     "output_type": "execute_result"
    }
   ],
   "source": [
    "data_1.columns"
   ]
  },
  {
   "cell_type": "markdown",
   "id": "fff3af04-f30f-415b-8ffd-92d2c9ee1401",
   "metadata": {},
   "source": [
    "# Define Target Variable (y) and Feature Variables (X)"
   ]
  },
  {
   "cell_type": "code",
   "execution_count": 25,
   "id": "112f2ca9-d678-49c3-8aba-78f4ca253d6c",
   "metadata": {},
   "outputs": [],
   "source": [
    "X = data_1.drop(['Churn'],axis = 1)"
   ]
  },
  {
   "cell_type": "code",
   "execution_count": 26,
   "id": "9a04236d-e267-4e24-b4b1-7654bd513e15",
   "metadata": {},
   "outputs": [],
   "source": [
    "y = data_1['Churn']"
   ]
  },
  {
   "cell_type": "code",
   "execution_count": 27,
   "id": "0639cb0b-0503-463d-b25c-eebc7359e26a",
   "metadata": {},
   "outputs": [
    {
     "data": {
      "text/plain": [
       "Churn\n",
       "0    7963\n",
       "1    2037\n",
       "Name: count, dtype: int64"
      ]
     },
     "execution_count": 27,
     "metadata": {},
     "output_type": "execute_result"
    }
   ],
   "source": [
    "y.value_counts()"
   ]
  },
  {
   "cell_type": "markdown",
   "id": "3b89632d-3ee2-45e5-8152-f680efe82bb0",
   "metadata": {},
   "source": [
    "# Handling imbalance data\n",
    "In classification problems, to get higher accuracy data should be balanced"
   ]
  },
  {
   "cell_type": "markdown",
   "id": "5edfc854-c52a-4f4f-a9f7-84ff322659bb",
   "metadata": {},
   "source": [
    "Two methods to achieve this purpose: Oversampling and undersampling"
   ]
  },
  {
   "cell_type": "code",
   "execution_count": 28,
   "id": "9858ba76-19b7-463a-b8aa-1b181c8f4584",
   "metadata": {},
   "outputs": [
    {
     "data": {
      "text/plain": [
       "<Axes: xlabel='Churn', ylabel='count'>"
      ]
     },
     "execution_count": 28,
     "metadata": {},
     "output_type": "execute_result"
    },
    {
     "data": {
      "image/png": "[encoded data removed]",
      "text/plain": [
       "<Figure size 640x480 with 1 Axes>"
      ]
     },
     "metadata": {},
     "output_type": "display_data"
    }
   ],
   "source": [
    "sns.countplot(x='Churn',data = data_1)"
   ]
  },
  {
   "cell_type": "markdown",
   "id": "0adc1e97-a236-4e9d-8a8b-2d3dc6ea0883",
   "metadata": {},
   "source": [
    "# Undersampling"
   ]
  },
  {
   "cell_type": "code",
   "execution_count": 30,
   "id": "8823899f-2a56-4982-80a6-d8ce1959f612",
   "metadata": {},
   "outputs": [],
   "source": [
    "from imblearn.under_sampling import RandomUnderSampler\n",
    "u_s = RandomUnderSampler(random_state = 0)"
   ]
  },
  {
   "cell_type": "code",
   "execution_count": 31,
   "id": "00463c8a-c9ab-4643-b244-91d037043a59",
   "metadata": {},
   "outputs": [],
   "source": [
    "X_us,y_us = u_s.fit_resample(X,y)"
   ]
  },
  {
   "cell_type": "code",
   "execution_count": 32,
   "id": "2be898de-2a54-4ad1-8ba9-d95a22c3ad34",
   "metadata": {},
   "outputs": [
    {
     "data": {
      "text/plain": [
       "<Axes: xlabel='Churn', ylabel='count'>"
      ]
     },
     "execution_count": 32,
     "metadata": {},
     "output_type": "execute_result"
    },
    {
     "data": {
      "image/png": "[encoded data removed]",
      "text/plain": [
       "<Figure size 640x480 with 1 Axes>"
      ]
     },
     "metadata": {},
     "output_type": "display_data"
    }
   ],
   "source": [
    "sns.countplot(x= y_us)"
   ]
  },
  {
   "cell_type": "markdown",
   "id": "5724b589-a104-4e11-8de7-d92b29ae9ab5",
   "metadata": {},
   "source": [
    "# oversampling"
   ]
  },
  {
   "cell_type": "code",
   "execution_count": 33,
   "id": "bbccb3b0-a8be-4d70-849d-cea60fa3633f",
   "metadata": {},
   "outputs": [],
   "source": [
    "from imblearn.over_sampling import RandomOverSampler"
   ]
  },
  {
   "cell_type": "code",
   "execution_count": 34,
   "id": "0fb071c2-56f0-4651-b7eb-d4b2a2bbf295",
   "metadata": {},
   "outputs": [],
   "source": [
    "o_s = RandomOverSampler(random_state =0)"
   ]
  },
  {
   "cell_type": "code",
   "execution_count": 35,
   "id": "b0e6b64e-7254-49fe-9ea8-c65618e57fa0",
   "metadata": {},
   "outputs": [],
   "source": [
    "X_os, y_os = o_s.fit_resample(X,y)"
   ]
  },
  {
   "cell_type": "code",
   "execution_count": 36,
   "id": "4c866ca5-e70e-4963-9e1d-edc88652af95",
   "metadata": {},
   "outputs": [
    {
     "data": {
      "text/plain": [
       "<Axes: xlabel='Churn', ylabel='count'>"
      ]
     },
     "execution_count": 36,
     "metadata": {},
     "output_type": "execute_result"
    },
    {
     "data": {
      "image/png": "[encoded data removed]",
      "text/plain": [
       "<Figure size 640x480 with 1 Axes>"
      ]
     },
     "metadata": {},
     "output_type": "display_data"
    }
   ],
   "source": [
    "sns.countplot(x= y_os)"
   ]
  },
  {
   "cell_type": "markdown",
   "id": "de69e175-3225-4d52-acc9-9be3ebcf29ca",
   "metadata": {},
   "source": [
    "# Standardize Feature"
   ]
  },
  {
   "cell_type": "code",
   "execution_count": 37,
   "id": "50c6aa3c-cdfa-421e-b662-9bc6e8e25bee",
   "metadata": {},
   "outputs": [],
   "source": [
    "from sklearn.preprocessing import StandardScaler\n",
    "ss = StandardScaler()"
   ]
  },
  {
   "cell_type": "code",
   "execution_count": 38,
   "id": "3fa0b87f-0964-4089-ad34-1dd94bcbc534",
   "metadata": {},
   "outputs": [],
   "source": [
    "X[['CreditScore', 'Age', 'Tenure', 'Balance','Estimated Salary']] = ss.fit_transform(X[['CreditScore', 'Age', 'Tenure', 'Balance','Estimated Salary']])"
   ]
  },
  {
   "cell_type": "code",
   "execution_count": 39,
   "id": "c3ac79ba-8f5c-4dc3-baec-7a6c94fd4691",
   "metadata": {},
   "outputs": [],
   "source": [
    "X_os[['CreditScore', 'Age', 'Tenure', 'Balance','Estimated Salary']] = ss.fit_transform(X_os[['CreditScore', 'Age', 'Tenure', 'Balance','Estimated Salary']])\n",
    "X_us[['CreditScore', 'Age', 'Tenure', 'Balance','Estimated Salary']] = ss.fit_transform(X_us[['CreditScore', 'Age', 'Tenure', 'Balance','Estimated Salary']])"
   ]
  },
  {
   "cell_type": "markdown",
   "id": "375c70ed-3029-48d5-ad94-0cf3dd229ce5",
   "metadata": {},
   "source": [
    "# Train_Test_Split"
   ]
  },
  {
   "cell_type": "code",
   "execution_count": 40,
   "id": "a8657d58-bae5-42c1-ad3a-0c7c49bfb8ef",
   "metadata": {},
   "outputs": [],
   "source": [
    "from sklearn.model_selection import train_test_split\n",
    "\n",
    "X_os_train,X_os_test,y_os_train,y_os_test = train_test_split(X_os,y_os,test_size = 0.25,stratify = y_os,random_state=0)\n",
    "\n",
    "X_us_train,X_us_test,y_us_train,y_us_test = train_test_split(X_us,y_us,test_size = 0.25,stratify = y_us,random_state=0)\n",
    "\n",
    "X_train,X_test,y_train,y_test = train_test_split(X,y,test_size = 0.25,stratify = y,random_state=0)"
   ]
  },
  {
   "cell_type": "markdown",
   "id": "d23b3be9-ea54-4cbe-8ec7-5d12433e45a2",
   "metadata": {},
   "source": [
    "# Modeling"
   ]
  },
  {
   "cell_type": "code",
   "execution_count": 41,
   "id": "e209d6ad-3129-497c-8371-dc0fc1715236",
   "metadata": {},
   "outputs": [],
   "source": [
    "from sklearn.neighbors import KNeighborsClassifier"
   ]
  },
  {
   "cell_type": "code",
   "execution_count": 42,
   "id": "086ff68f-1a35-4114-a76b-25bf44dd77a1",
   "metadata": {},
   "outputs": [],
   "source": [
    "kn = KNeighborsClassifier()"
   ]
  },
  {
   "cell_type": "code",
   "execution_count": 43,
   "id": "ed621220-2013-4e10-ace6-c7d76c590931",
   "metadata": {},
   "outputs": [],
   "source": [
    "from sklearn.tree import DecisionTreeClassifier"
   ]
  },
  {
   "cell_type": "code",
   "execution_count": 44,
   "id": "f2bf4bab-ac24-4864-96b0-5653a3a0f01d",
   "metadata": {},
   "outputs": [],
   "source": [
    "dtc = DecisionTreeClassifier()"
   ]
  },
  {
   "cell_type": "code",
   "execution_count": 45,
   "id": "f246ece1-2a3d-4f83-a7ec-f055d1caa430",
   "metadata": {},
   "outputs": [],
   "source": [
    "# Original data\n",
    "\n",
    "dtc.fit(X_train,y_train)\n",
    "y_dtc = dtc.predict(X_test)"
   ]
  },
  {
   "cell_type": "code",
   "execution_count": 46,
   "id": "87e8ef6e-e1c5-4f19-b6ba-e5cf7facfa08",
   "metadata": {},
   "outputs": [],
   "source": [
    "# Original data\n",
    "\n",
    "kn.fit(X_train,y_train)\n",
    "y_kn = kn.predict(X_test)"
   ]
  },
  {
   "cell_type": "code",
   "execution_count": 47,
   "id": "2539d117-1220-4d4c-af95-24fc2aa1c7d0",
   "metadata": {},
   "outputs": [],
   "source": [
    "# Undersample data\n",
    "\n",
    "dtc.fit(X_us_train,y_us_train)\n",
    "y_us_dtc = dtc.predict(X_us_test)"
   ]
  },
  {
   "cell_type": "code",
   "execution_count": 48,
   "id": "386dd5ce-2fdf-45d4-8df1-8f6d2a5deccc",
   "metadata": {},
   "outputs": [],
   "source": [
    "# Undersampled data\n",
    "\n",
    "kn.fit(X_us_train,y_us_train)\n",
    "y_us_kn = kn.predict(X_us_test)"
   ]
  },
  {
   "cell_type": "code",
   "execution_count": 49,
   "id": "c6b1e904-6f4d-4dad-9a73-a6296bc3eba2",
   "metadata": {},
   "outputs": [],
   "source": [
    "# Oversampled data\n",
    "\n",
    "kn.fit(X_os_train,y_os_train)\n",
    "y_os_kn = kn.predict(X_os_test)"
   ]
  },
  {
   "cell_type": "code",
   "execution_count": 50,
   "id": "782c0bbf-30cc-46ae-a7f2-76ba7fa47176",
   "metadata": {},
   "outputs": [],
   "source": [
    "# Oversampled data\n",
    "\n",
    "dtc.fit(X_os_train,y_os_train)\n",
    "y_os_dtc = dtc.predict(X_os_test)"
   ]
  },
  {
   "cell_type": "markdown",
   "id": "f032d535-26d8-4fb7-b576-1a08b4922b01",
   "metadata": {},
   "source": [
    "# Model Evaluation\n",
    "original data"
   ]
  },
  {
   "cell_type": "code",
   "execution_count": 51,
   "id": "0c3e68dc-eb00-43f1-850f-e742318bd1b1",
   "metadata": {},
   "outputs": [],
   "source": [
    "from sklearn.metrics import classification_report"
   ]
  },
  {
   "cell_type": "code",
   "execution_count": 52,
   "id": "7cf1b90a-0c1f-4f8a-bb4c-27ca66768ca0",
   "metadata": {},
   "outputs": [
    {
     "name": "stdout",
     "output_type": "stream",
     "text": [
      "              precision    recall  f1-score   support\n",
      "\n",
      "           0       0.88      0.86      0.87      1991\n",
      "           1       0.51      0.55      0.53       509\n",
      "\n",
      "    accuracy                           0.80      2500\n",
      "   macro avg       0.69      0.71      0.70      2500\n",
      "weighted avg       0.81      0.80      0.80      2500\n",
      "\n"
     ]
    }
   ],
   "source": [
    "# Original data with Decision tree Model\n",
    "\n",
    "print(classification_report(y_test,y_dtc))"
   ]
  },
  {
   "cell_type": "code",
   "execution_count": 53,
   "id": "c5034f35-16c5-4d98-96c9-6d1a7e43efb3",
   "metadata": {},
   "outputs": [
    {
     "name": "stdout",
     "output_type": "stream",
     "text": [
      "              precision    recall  f1-score   support\n",
      "\n",
      "           0       0.86      0.95      0.90      1991\n",
      "           1       0.67      0.38      0.49       509\n",
      "\n",
      "    accuracy                           0.84      2500\n",
      "   macro avg       0.76      0.67      0.69      2500\n",
      "weighted avg       0.82      0.84      0.82      2500\n",
      "\n"
     ]
    }
   ],
   "source": [
    "# Original data with KNN Model\n",
    "\n",
    "print(classification_report(y_test,y_kn))"
   ]
  },
  {
   "cell_type": "code",
   "execution_count": 54,
   "id": "73c570e7-3cc2-4cbf-8787-4ce98930684c",
   "metadata": {},
   "outputs": [
    {
     "name": "stdout",
     "output_type": "stream",
     "text": [
      "              precision    recall  f1-score   support\n",
      "\n",
      "           0       0.72      0.72      0.72       510\n",
      "           1       0.72      0.72      0.72       509\n",
      "\n",
      "    accuracy                           0.72      1019\n",
      "   macro avg       0.72      0.72      0.72      1019\n",
      "weighted avg       0.72      0.72      0.72      1019\n",
      "\n"
     ]
    }
   ],
   "source": [
    "# Undersampled data with Decision tree Model\n",
    "\n",
    "print(classification_report(y_us_test,y_us_dtc))"
   ]
  },
  {
   "cell_type": "code",
   "execution_count": 55,
   "id": "f54d4e60-1c9a-4d37-be3a-0bfdab1d4ebb",
   "metadata": {},
   "outputs": [
    {
     "name": "stdout",
     "output_type": "stream",
     "text": [
      "              precision    recall  f1-score   support\n",
      "\n",
      "           0       0.74      0.73      0.73       510\n",
      "           1       0.73      0.74      0.74       509\n",
      "\n",
      "    accuracy                           0.73      1019\n",
      "   macro avg       0.73      0.73      0.73      1019\n",
      "weighted avg       0.73      0.73      0.73      1019\n",
      "\n"
     ]
    }
   ],
   "source": [
    "# Undersampled data with KNN Model\n",
    "\n",
    "print(classification_report(y_us_test,y_us_kn))"
   ]
  },
  {
   "cell_type": "code",
   "execution_count": 56,
   "id": "bf03fb99-3472-421e-9aaf-c1b44043844e",
   "metadata": {},
   "outputs": [
    {
     "name": "stdout",
     "output_type": "stream",
     "text": [
      "              precision    recall  f1-score   support\n",
      "\n",
      "           0       0.97      0.85      0.90      1991\n",
      "           1       0.86      0.97      0.92      1991\n",
      "\n",
      "    accuracy                           0.91      3982\n",
      "   macro avg       0.92      0.91      0.91      3982\n",
      "weighted avg       0.92      0.91      0.91      3982\n",
      "\n"
     ]
    }
   ],
   "source": [
    "# Oversampled data with Decision tree Model\n",
    "\n",
    "print(classification_report(y_os_test,y_os_dtc))"
   ]
  },
  {
   "cell_type": "code",
   "execution_count": 57,
   "id": "6bbc6604-2de9-4130-a72f-f89d8f593d66",
   "metadata": {},
   "outputs": [
    {
     "name": "stdout",
     "output_type": "stream",
     "text": [
      "              precision    recall  f1-score   support\n",
      "\n",
      "           0       0.86      0.74      0.79      1991\n",
      "           1       0.77      0.87      0.82      1991\n",
      "\n",
      "    accuracy                           0.81      3982\n",
      "   macro avg       0.81      0.81      0.81      3982\n",
      "weighted avg       0.81      0.81      0.81      3982\n",
      "\n"
     ]
    }
   ],
   "source": [
    "# Oversampled data with KNN Model\n",
    "\n",
    "print(classification_report(y_os_test,y_os_kn))"
   ]
  },
  {
   "cell_type": "markdown",
   "id": "f7eeaff3-339d-423a-8529-68ee7903e043",
   "metadata": {},
   "source": [
    "# Hyperparameter Tuning For KNeighborClassifier"
   ]
  },
  {
   "cell_type": "code",
   "execution_count": 58,
   "id": "ff9c8546-0d30-497c-96d0-b85ffa95ed38",
   "metadata": {},
   "outputs": [],
   "source": [
    "from sklearn.model_selection import GridSearchCV\n",
    "\n",
    "# Define hyperparameters to search\n",
    "param_grid = {\n",
    "    'n_neighbors': [3, 5, 7],  # K values\n",
    "    'weights': ['uniform', 'distance']  # Weighting options\n",
    "}\n",
    "\n",
    "# Create KNN classifier\n",
    "knn = KNeighborsClassifier()\n",
    "\n",
    "# Perform grid search\n",
    "grid_search = GridSearchCV(knn, param_grid, cv=5, scoring='accuracy')\n",
    "grid_search.fit(X_os_train, y_os_train)\n",
    "\n",
    "# Get best hyperparameters\n",
    "best_k = grid_search.best_params_['n_neighbors']\n",
    "best_weight = grid_search.best_params_['weights']\n"
   ]
  },
  {
   "cell_type": "code",
   "execution_count": 59,
   "id": "d359ca8e-7a5f-4ef5-8105-cfe615183aca",
   "metadata": {},
   "outputs": [],
   "source": [
    "# Evaluating\n",
    "\n",
    "knn_1 = KNeighborsClassifier(n_neighbors = best_k, weights = best_weight)"
   ]
  },
  {
   "cell_type": "code",
   "execution_count": 60,
   "id": "a13e21bb-2f14-49e2-a23c-08c3fc4d47db",
   "metadata": {},
   "outputs": [
    {
     "name": "stdout",
     "output_type": "stream",
     "text": [
      "              precision    recall  f1-score   support\n",
      "\n",
      "           0       0.97      0.77      0.86      1991\n",
      "           1       0.81      0.98      0.88      1991\n",
      "\n",
      "    accuracy                           0.87      3982\n",
      "   macro avg       0.89      0.87      0.87      3982\n",
      "weighted avg       0.89      0.87      0.87      3982\n",
      "\n"
     ]
    }
   ],
   "source": [
    "knn_1.fit(X_os_train,y_os_train)\n",
    "y_os_knn_1 = knn_1.predict(X_os_test)\n",
    "\n",
    "print(classification_report(y_os_test,y_os_knn_1))"
   ]
  },
  {
   "cell_type": "markdown",
   "id": "f29a0219-96f6-4c06-bd54-7d3812707e1a",
   "metadata": {},
   "source": [
    "# Results\n",
    "We can clearly see model's prediction is really bad with imbalanced data, desicion tree recall for churn is 0.52 and KNN recall for churn is just 0.38"
   ]
  },
  {
   "cell_type": "markdown",
   "id": "361aa21a-64e2-4c76-ad1b-f7656c5d5776",
   "metadata": {},
   "source": [
    "Also oversampled data got the best accuracy, since there is no data lost in over sampling."
   ]
  },
  {
   "cell_type": "markdown",
   "id": "7e4d08ca-e270-406b-b07f-9ab7cfcb9e09",
   "metadata": {},
   "source": [
    "Decision Tree with oversampled data recall for churn is 0.97"
   ]
  },
  {
   "cell_type": "markdown",
   "id": "2e59b5cf-4680-4b46-8e3b-c3aef24fc86c",
   "metadata": {},
   "source": [
    "Hyperparameter tunning for KNN classifier increased its accuracy, precision and recall for oversampled data."
   ]
  },
  {
   "cell_type": "markdown",
   "id": "19baad30-d541-40f5-beb8-d04a6284ad5b",
   "metadata": {},
   "source": [
    "# Predictions"
   ]
  },
  {
   "cell_type": "code",
   "execution_count": 62,
   "id": "85216ca7-b2c0-4066-8cc3-8ff935df6142",
   "metadata": {},
   "outputs": [],
   "source": [
    "def predict_(CreditScore,Age,Tenure,Balance,NumOfProducts,HasCreditCard, IsActiveMember,EstimatedSalary,Country,Gender): \n",
    "          \n",
    "  info = pd.DataFrame([[CreditScore,Age,Tenure,Balance,NumOfProducts,HasCreditCard, IsActiveMember,EstimatedSalary]],columns = ['CreditScore', 'Age', 'Tenure', 'Balance', 'Num Of Products','Has Credit Card', 'Is Active Member', 'Estimated Salary'])\n",
    "  \n",
    "\n",
    "  match Country.lower():\n",
    "    case 'france':\n",
    "        info['Geography_Germany'] = 0\n",
    "        info['Geography_Spain'] = 0\n",
    "    case 'germany':\n",
    "        info['Geography_Germany'] = 1\n",
    "        info['Geography_Spain'] = 0\n",
    "    case 'spain':\n",
    "        info['Geography_Germany'] = 0\n",
    "        info['Geography_Spain'] = 1    \n",
    "\n",
    "  match Gender.lower():\n",
    "     case 'female':\n",
    "         info['Gender_Male'] = 0\n",
    "        \n",
    "     case 'male':\n",
    "         info['Gender_Male'] = 1\n",
    "        \n",
    "\n",
    "  info['zero_bal'] = np.where((info['Balance'] == 0),1,0)\n",
    "\n",
    "  p_knn = knn_1.predict(info)\n",
    "  p_dtc = dtc.predict(info)\n",
    "\n",
    "  if p_knn == 0:\n",
    "      print(\"KNN prediction: Not leaving the Bank\")\n",
    "  else:\n",
    "    print(\"KNN prediction: Leaving the Bank\")\n",
    "\n",
    "  if p_dtc == 0:\n",
    "      print(\"Decision Tree prediction: Not leaving the Bank\")\n",
    "  else:\n",
    "    print(\"Decision Tree prediction: Leaving the Bank\")"
   ]
  },
  {
   "cell_type": "code",
   "execution_count": 63,
   "id": "7a62f73f-097c-4faf-9047-e411c06e66ab",
   "metadata": {},
   "outputs": [
    {
     "name": "stdout",
     "output_type": "stream",
     "text": [
      "To predict customer Churn please enter following details of customer\n"
     ]
    },
    {
     "name": "stdin",
     "output_type": "stream",
     "text": [
      "Credit Score:  720\n",
      "Age:  35\n",
      "Tenure:  2\n",
      "Balance:  5000\n",
      "Num Of Products:  2\n",
      "Has Credict Card:True/False?  0\n",
      "Is Active Member: True/False?  0\n",
      "Salary:  20000\n",
      "Country:  France\n",
      "Gender:  Male\n"
     ]
    }
   ],
   "source": [
    "print('To predict customer Churn please enter following details of customer')\n",
    "CreditScore = float(input('Credit Score: '))\n",
    "Age = input('Age: ')\n",
    "Tenure = input('Tenure: ')\n",
    "Balance = input('Balance: ')\n",
    "NumOfProducts = input('Num Of Products: ')\n",
    "HasCreditCard = input('Has Credict Card:True/False? ')\n",
    "IsActiveMember = input('Is Active Member: True/False? ')\n",
    "EstimatedSalary = input('Salary: ')\n",
    "Country = input('Country: ')\n",
    "Gender = input('Gender: ')"
   ]
  },
  {
   "cell_type": "code",
   "execution_count": 64,
   "id": "3f108248-21b6-419b-aa1d-d6946aa2c68b",
   "metadata": {},
   "outputs": [],
   "source": [
    "# Prediction of the manual data"
   ]
  },
  {
   "cell_type": "code",
   "execution_count": 65,
   "id": "79468e28-5177-4029-a6d8-14adad026578",
   "metadata": {},
   "outputs": [
    {
     "name": "stdout",
     "output_type": "stream",
     "text": [
      "KNN prediction: Leaving the Bank\n",
      "Decision Tree prediction: Leaving the Bank\n"
     ]
    }
   ],
   "source": [
    "predict_(CreditScore,Age,Tenure,Balance,NumOfProducts,HasCreditCard,IsActiveMember,EstimatedSalary,Country,Gender)"
   ]
  },
  {
   "cell_type": "code",
   "execution_count": 74,
   "id": "42cf9ce3-b3cc-4569-b28a-b0e3e0d13562",
   "metadata": {},
   "outputs": [
    {
     "name": "stdout",
     "output_type": "stream",
     "text": [
      "To predict customer Churn please enter following details of customer\n"
     ]
    },
    {
     "name": "stdin",
     "output_type": "stream",
     "text": [
      "Credit Score:  680\n",
      "Age:  22\n",
      "Tenure:  0.5\n",
      "Balance:  1500\n",
      "Num Of Products:  1\n",
      "Has Credict Card:True/False?  0\n",
      "Is Active Member: True/False?  1\n",
      "Salary:  20000\n",
      "Country:  France\n",
      "Gender:  Male\n"
     ]
    }
   ],
   "source": [
    "print('To predict customer Churn please enter following details of customer')\n",
    "CreditScore = float(input('Credit Score: '))\n",
    "Age = input('Age: ')\n",
    "Tenure = input('Tenure: ')\n",
    "Balance = input('Balance: ')\n",
    "NumOfProducts = input('Num Of Products: ')\n",
    "HasCreditCard = input('Has Credict Card:True/False? ')\n",
    "IsActiveMember = input('Is Active Member: True/False? ')\n",
    "EstimatedSalary = input('Salary: ')\n",
    "Country = input('Country: ')\n",
    "Gender = input('Gender: ')"
   ]
  },
  {
   "cell_type": "code",
   "execution_count": 75,
   "id": "b053f234-2dda-4a4d-84f5-e30803330858",
   "metadata": {},
   "outputs": [
    {
     "name": "stdout",
     "output_type": "stream",
     "text": [
      "KNN prediction: Not leaving the Bank\n",
      "Decision Tree prediction: Not leaving the Bank\n"
     ]
    }
   ],
   "source": [
    "predict_(CreditScore,Age,Tenure,Balance,NumOfProducts,HasCreditCard,IsActiveMember,EstimatedSalary,Country,Gender)"
   ]
  },
  {
   "cell_type": "markdown",
   "id": "0cc94ea0-e583-4796-a887-6f569e7fb29e",
   "metadata": {},
   "source": [
    "# You can check it on your data."
   ]
  },
  {
   "cell_type": "code",
   "execution_count": null,
   "id": "57a2925a-9776-45b8-87c4-5f7548b98882",
   "metadata": {},
   "outputs": [],
   "source": []
  }
 ],
 "metadata": {
  "kernelspec": {
   "display_name": "Python 3 (ipykernel)",
   "language": "python",
   "name": "python3"
  },
  "language_info": {
   "codemirror_mode": {
    "name": "ipython",
    "version": 3
   },
   "file_extension": ".py",
   "mimetype": "text/x-python",
   "name": "python",
   "nbconvert_exporter": "python",
   "pygments_lexer": "ipython3",
   "version": "3.11.7"
  }
 },
 "nbformat": 4,
 "nbformat_minor": 5
}
